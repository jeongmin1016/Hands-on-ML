{
  "nbformat": 4,
  "nbformat_minor": 0,
  "metadata": {
    "colab": {
      "provenance": [],
      "collapsed_sections": [
        "4KC-R92XEqps"
      ]
    },
    "kernelspec": {
      "name": "python3",
      "display_name": "Python 3"
    },
    "language_info": {
      "name": "python"
    }
  },
  "cells": [
    {
      "cell_type": "markdown",
      "source": [
        "# 10. 인공신경망"
      ],
      "metadata": {
        "id": "-gj9tIcnEn3A"
      }
    },
    {
      "cell_type": "markdown",
      "source": [
        "# 1. 생물학적 뉴런에서 인공뉴런까지"
      ],
      "metadata": {
        "id": "4KC-R92XEqps"
      }
    },
    {
      "cell_type": "code",
      "execution_count": 1,
      "metadata": {
        "id": "nV2CpruiEjBQ"
      },
      "outputs": [],
      "source": [
        "import numpy as np\n",
        "from sklearn.datasets import load_iris\n",
        "from sklearn.linear_model import Perceptron\n",
        "\n",
        "iris = load_iris(as_frame=True)\n",
        "X = iris.data[['petal length (cm)', 'petal width (cm)']].values\n",
        "y = (iris.target == 0)\n",
        "\n",
        "per_clf = Perceptron(random_state=42)\n",
        "per_clf.fit(X,y)\n",
        "\n",
        "X_new =[[2,0.5], [3,1]]\n",
        "y_pred = per_clf.predict(X_new)"
      ]
    },
    {
      "cell_type": "code",
      "source": [
        "y_pred"
      ],
      "metadata": {
        "id": "1x0K8v2tFQyR",
        "outputId": "01568103-e302-4d00-f5f4-da775cb24a60",
        "colab": {
          "base_uri": "https://localhost:8080/"
        }
      },
      "execution_count": 2,
      "outputs": [
        {
          "output_type": "execute_result",
          "data": {
            "text/plain": [
              "array([ True, False])"
            ]
          },
          "metadata": {},
          "execution_count": 2
        }
      ]
    },
    {
      "cell_type": "code",
      "source": [
        "from pathlib import Path\n",
        "import pandas as pd\n",
        "import tarfile\n",
        "import urllib.request\n",
        "\n",
        "def load_housing_data():\n",
        "    tarball_path = Path(\"datasets/housing.tgz\")                      # 파일 저장 경로. 파일명 함께 지정.\n",
        "    if not tarball_path.is_file():                                   # 아직 다운로드하지 않은 경우\n",
        "        Path(\"datasets\").mkdir(parents=True, exist_ok=True)          # 폴더 생성\n",
        "        url = \"https://github.com/ageron/data/raw/main/housing.tgz\"  # 파일 다운로드\n",
        "        urllib.request.urlretrieve(url, tarball_path)\n",
        "        with tarfile.open(tarball_path) as housing_tarball:          # tgz 파일 압축 풀기\n",
        "            housing_tarball.extractall(path=\"datasets\")\n",
        "    return pd.read_csv(Path(\"datasets/housing/housing.csv\"))         # 압축 풀린 csv 파일 불러오기\n"
      ],
      "metadata": {
        "id": "kDIuWA5MR3Ko"
      },
      "execution_count": 3,
      "outputs": []
    },
    {
      "cell_type": "code",
      "source": [
        "from sklearn.metrics import mean_squared_error\n",
        "from sklearn.model_selection import train_test_split\n",
        "from sklearn.neural_network import MLPRegressor\n",
        "from sklearn.pipeline import make_pipeline\n",
        "from sklearn.preprocessing import StandardScaler\n",
        "import numpy as np\n",
        "from sklearn.preprocessing import OrdinalEncoder\n",
        "\n",
        "housing = load_housing_data()\n",
        "\n",
        "X = housing[['longitude', 'latitude', 'housing_median_age', 'total_rooms',\n",
        "       'total_bedrooms', 'population', 'households', 'median_income', 'ocean_proximity']]\n",
        "encoder = OrdinalEncoder()\n",
        "X['ocean_proximity'] = encoder.fit_transform(X[['ocean_proximity']])\n",
        "X[\"total_bedrooms\"].fillna(X[\"total_bedrooms\"].median(), inplace=True)\n",
        "\n",
        "y = housing[['median_house_value']]\n",
        "\n",
        "X_train_full, X_test, y_train_full, y_test = train_test_split(X, y, random_state=42)\n",
        "X_train, X_valid, y_train, y_valid = train_test_split(X_train_full, y_train_full, random_state=42)\n",
        "\n",
        "# 각각 50개의 뉴런을 가진 3개의 은닉 층으로 구성된 MLP\n",
        "mlp_reg = MLPRegressor(hidden_layer_sizes=[50,50,50], random_state=42)\n",
        "pipeline = make_pipeline(StandardScaler(), mlp_reg)\n",
        "pipeline.fit(X_train, y_train)\n",
        "y_pred = pipeline.predict(X_valid)\n",
        "rmse = mean_squared_error(y_valid, y_pred, squared=False)\n",
        "np.sqrt(rmse)"
      ],
      "metadata": {
        "id": "BijcI-YIFQvj",
        "colab": {
          "base_uri": "https://localhost:8080/"
        },
        "outputId": "bb31e297-065a-491f-9c68-b672f847eebb"
      },
      "execution_count": 6,
      "outputs": [
        {
          "output_type": "stream",
          "name": "stderr",
          "text": [
            "<ipython-input-6-0a01cf573c9e>:14: SettingWithCopyWarning: \n",
            "A value is trying to be set on a copy of a slice from a DataFrame.\n",
            "Try using .loc[row_indexer,col_indexer] = value instead\n",
            "\n",
            "See the caveats in the documentation: https://pandas.pydata.org/pandas-docs/stable/user_guide/indexing.html#returning-a-view-versus-a-copy\n",
            "  X['ocean_proximity'] = encoder.fit_transform(X[['ocean_proximity']])\n",
            "<ipython-input-6-0a01cf573c9e>:15: SettingWithCopyWarning: \n",
            "A value is trying to be set on a copy of a slice from a DataFrame\n",
            "\n",
            "See the caveats in the documentation: https://pandas.pydata.org/pandas-docs/stable/user_guide/indexing.html#returning-a-view-versus-a-copy\n",
            "  X[\"total_bedrooms\"].fillna(X[\"total_bedrooms\"].median(), inplace=True)\n",
            "/usr/local/lib/python3.10/dist-packages/sklearn/neural_network/_multilayer_perceptron.py:1623: DataConversionWarning: A column-vector y was passed when a 1d array was expected. Please change the shape of y to (n_samples, ), for example using ravel().\n",
            "  y = column_or_1d(y, warn=True)\n",
            "/usr/local/lib/python3.10/dist-packages/sklearn/neural_network/_multilayer_perceptron.py:686: ConvergenceWarning: Stochastic Optimizer: Maximum iterations (200) reached and the optimization hasn't converged yet.\n",
            "  warnings.warn(\n"
          ]
        },
        {
          "output_type": "execute_result",
          "data": {
            "text/plain": [
              "254.44972234788747"
            ]
          },
          "metadata": {},
          "execution_count": 6
        }
      ]
    },
    {
      "cell_type": "code",
      "source": [
        "rmse"
      ],
      "metadata": {
        "colab": {
          "base_uri": "https://localhost:8080/"
        },
        "id": "M3-pC5qpWRdk",
        "outputId": "9b1daedc-77a5-430b-ba62-a0e3eeef272d"
      },
      "execution_count": 7,
      "outputs": [
        {
          "output_type": "execute_result",
          "data": {
            "text/plain": [
              "64744.66120291702"
            ]
          },
          "metadata": {},
          "execution_count": 7
        }
      ]
    },
    {
      "cell_type": "markdown",
      "source": [
        "# 2. 케라스로 다층 퍼셉트론 구현하기"
      ],
      "metadata": {
        "id": "591Q3GBiV5Vy"
      }
    },
    {
      "cell_type": "code",
      "source": [
        "import tensorflow as tf\n",
        "\n",
        "fashion_mnist = tf.keras.datasets.fashion_mnist.load_data()\n",
        "(X_train_full,y_train_full),(X_test,y_test)= fashion_mnist\n",
        "X_train, y_train = X_train_full[:-5000], y_train_full[:-5000]\n",
        "X_valid, y_valid = X_train_full[-5000:], y_train_full[-5000:]"
      ],
      "metadata": {
        "id": "B_2KKCO5FQq_",
        "colab": {
          "base_uri": "https://localhost:8080/"
        },
        "outputId": "ef3f5d12-fa79-4ea1-8a49-77a73b92a2db"
      },
      "execution_count": 8,
      "outputs": [
        {
          "output_type": "stream",
          "name": "stdout",
          "text": [
            "Downloading data from https://storage.googleapis.com/tensorflow/tf-keras-datasets/train-labels-idx1-ubyte.gz\n",
            "29515/29515 [==============================] - 0s 0us/step\n",
            "Downloading data from https://storage.googleapis.com/tensorflow/tf-keras-datasets/train-images-idx3-ubyte.gz\n",
            "26421880/26421880 [==============================] - 0s 0us/step\n",
            "Downloading data from https://storage.googleapis.com/tensorflow/tf-keras-datasets/t10k-labels-idx1-ubyte.gz\n",
            "5148/5148 [==============================] - 0s 0us/step\n",
            "Downloading data from https://storage.googleapis.com/tensorflow/tf-keras-datasets/t10k-images-idx3-ubyte.gz\n",
            "4422102/4422102 [==============================] - 0s 0us/step\n"
          ]
        }
      ]
    },
    {
      "cell_type": "code",
      "source": [
        "X_train.shape, X_train.dtype"
      ],
      "metadata": {
        "id": "GJNtWNPlFQow",
        "colab": {
          "base_uri": "https://localhost:8080/"
        },
        "outputId": "79107af2-2799-4d88-88ec-08ce98d666cb"
      },
      "execution_count": 9,
      "outputs": [
        {
          "output_type": "execute_result",
          "data": {
            "text/plain": [
              "((55000, 28, 28), dtype('uint8'))"
            ]
          },
          "metadata": {},
          "execution_count": 9
        }
      ]
    },
    {
      "cell_type": "code",
      "source": [
        "X_train, X_valid, X_test = X_train/225., X_valid/225., X_test/225."
      ],
      "metadata": {
        "id": "0jCvKNv1FQmp"
      },
      "execution_count": 10,
      "outputs": []
    },
    {
      "cell_type": "code",
      "source": [
        "class_names = ['T-shirt/top', 'Trouser', 'Pullover', 'Dress', 'Coat',\n",
        "               'Sandal', 'Shirt', 'Sneaker', 'Bag', 'Ankle Boot']"
      ],
      "metadata": {
        "id": "SAua1vQuFQkT"
      },
      "execution_count": 11,
      "outputs": []
    },
    {
      "cell_type": "code",
      "source": [
        "class_names[y_train[0]]"
      ],
      "metadata": {
        "id": "oGgjkIk8FQh9",
        "colab": {
          "base_uri": "https://localhost:8080/",
          "height": 36
        },
        "outputId": "4a02fe4c-3fe5-4b42-c693-5e1bf67492c7"
      },
      "execution_count": 12,
      "outputs": [
        {
          "output_type": "execute_result",
          "data": {
            "text/plain": [
              "'Ankle Boot'"
            ],
            "application/vnd.google.colaboratory.intrinsic+json": {
              "type": "string"
            }
          },
          "metadata": {},
          "execution_count": 12
        }
      ]
    },
    {
      "cell_type": "code",
      "source": [
        "import matplotlib.pyplot as plt\n",
        "plt.imshow(X_train[0], cmap='binary')\n",
        "plt.axis('off')\n",
        "plt.show()"
      ],
      "metadata": {
        "id": "Gdmc5IiAFQfw",
        "colab": {
          "base_uri": "https://localhost:8080/",
          "height": 406
        },
        "outputId": "0aad37c8-00e4-46fb-fd52-a4fa99b1f493"
      },
      "execution_count": 13,
      "outputs": [
        {
          "output_type": "display_data",
          "data": {
            "text/plain": [
              "<Figure size 640x480 with 1 Axes>"
            ],
            "image/png": "[encoded data removed]"
          },
          "metadata": {}
        }
      ]
    },
    {
      "cell_type": "code",
      "source": [
        "# 그림 10-10\n",
        "n_rows = 4\n",
        "n_cols = 10\n",
        "plt.figure(figsize=(n_cols * 1.2, n_rows * 1.2))\n",
        "\n",
        "for row in range(n_rows):\n",
        "  for col in range(n_cols):\n",
        "    index = n_cols * row + col\n",
        "    plt.subplot(n_rows, n_cols, index + 1)\n",
        "    plt.imshow(X_train[index], cmap=\"binary\", interpolation=\"nearest\")\n",
        "    plt.axis('off')\n",
        "    plt.title(class_names[y_train[index]])\n",
        "plt.subplots_adjust(wspace=0.2, hspace=0.5)\n",
        "plt.show()"
      ],
      "metadata": {
        "id": "dioORm2cFOY8",
        "colab": {
          "base_uri": "https://localhost:8080/",
          "height": 390
        },
        "outputId": "1fce4cdc-f5a3-4d18-a711-539ec050c17b"
      },
      "execution_count": 14,
      "outputs": [
        {
          "output_type": "display_data",
          "data": {
            "text/plain": [
              "<Figure size 1200x480 with 40 Axes>"
            ],
            "image/png": "[encoded data removed]"
          },
          "metadata": {}
        }
      ]
    },
    {
      "cell_type": "code",
      "source": [
        "tf.random.set_seed(42)\n",
        "model = tf.keras.Sequential()\n",
        "model.add(tf.keras.layers.Input(shape=[28,28]))\n",
        "model.add(tf.keras.layers.Flatten())\n",
        "model.add(tf.keras.layers.Dense(300, activation='relu'))\n",
        "model.add(tf.keras.layers.Dense(100, activation='relu'))\n",
        "model.add(tf.keras.layers.Dense(10, activation='softmax'))"
      ],
      "metadata": {
        "id": "MOQoMunsX1tx"
      },
      "execution_count": 15,
      "outputs": []
    },
    {
      "cell_type": "code",
      "source": [
        "model = tf.keras.Sequential([\n",
        "    tf.keras.layers.Flatten(input_shape=[28,28]),\n",
        "    tf.keras.layers.Dense(300, activation='relu'),\n",
        "    tf.keras.layers.Dense(100, activation='relu'),\n",
        "    tf.keras.layers.Dense(10, activation='softmax')\n",
        "])\n",
        "\n",
        "model.summary()"
      ],
      "metadata": {
        "colab": {
          "base_uri": "https://localhost:8080/"
        },
        "id": "pMUBUAQ-YQAL",
        "outputId": "88658e3f-05e8-4889-9235-633291e8b8d3"
      },
      "execution_count": 16,
      "outputs": [
        {
          "output_type": "stream",
          "name": "stdout",
          "text": [
            "Model: \"sequential_1\"\n",
            "_________________________________________________________________\n",
            " Layer (type)                Output Shape              Param #   \n",
            "=================================================================\n",
            " flatten_1 (Flatten)         (None, 784)               0         \n",
            "                                                                 \n",
            " dense_3 (Dense)             (None, 300)               235500    \n",
            "                                                                 \n",
            " dense_4 (Dense)             (None, 100)               30100     \n",
            "                                                                 \n",
            " dense_5 (Dense)             (None, 10)                1010      \n",
            "                                                                 \n",
            "=================================================================\n",
            "Total params: 266610 (1.02 MB)\n",
            "Trainable params: 266610 (1.02 MB)\n",
            "Non-trainable params: 0 (0.00 Byte)\n",
            "_________________________________________________________________\n"
          ]
        }
      ]
    },
    {
      "cell_type": "code",
      "source": [
        "model.layers"
      ],
      "metadata": {
        "colab": {
          "base_uri": "https://localhost:8080/"
        },
        "id": "TMuCd4SzYi3G",
        "outputId": "98f17b24-149f-421e-fd57-fd5107a35936"
      },
      "execution_count": 17,
      "outputs": [
        {
          "output_type": "execute_result",
          "data": {
            "text/plain": [
              "[<keras.src.layers.reshaping.flatten.Flatten at 0x7f11860d9540>,\n",
              " <keras.src.layers.core.dense.Dense at 0x7f11860eaa70>,\n",
              " <keras.src.layers.core.dense.Dense at 0x7f11860eab30>,\n",
              " <keras.src.layers.core.dense.Dense at 0x7f1181642980>]"
            ]
          },
          "metadata": {},
          "execution_count": 17
        }
      ]
    },
    {
      "cell_type": "code",
      "source": [
        "hidden1 = model.layers[1]"
      ],
      "metadata": {
        "id": "c-7avRihY4er"
      },
      "execution_count": 18,
      "outputs": []
    },
    {
      "cell_type": "code",
      "source": [
        "hidden1.name"
      ],
      "metadata": {
        "colab": {
          "base_uri": "https://localhost:8080/",
          "height": 36
        },
        "id": "2NkLJ996Y6ei",
        "outputId": "5d6fa74c-08de-49f2-d9ee-1360e1bf9008"
      },
      "execution_count": 19,
      "outputs": [
        {
          "output_type": "execute_result",
          "data": {
            "text/plain": [
              "'dense_3'"
            ],
            "application/vnd.google.colaboratory.intrinsic+json": {
              "type": "string"
            }
          },
          "metadata": {},
          "execution_count": 19
        }
      ]
    },
    {
      "cell_type": "code",
      "source": [
        "model.get_layer('dense_3') is hidden1"
      ],
      "metadata": {
        "colab": {
          "base_uri": "https://localhost:8080/"
        },
        "id": "evVLfD9OY8T0",
        "outputId": "690cd415-a01f-497b-81d7-f9ad8a99662e"
      },
      "execution_count": 22,
      "outputs": [
        {
          "output_type": "execute_result",
          "data": {
            "text/plain": [
              "True"
            ]
          },
          "metadata": {},
          "execution_count": 22
        }
      ]
    },
    {
      "cell_type": "code",
      "source": [
        "weights, biases = hidden1.get_weights() # 가중치와 b값\n",
        "weights"
      ],
      "metadata": {
        "colab": {
          "base_uri": "https://localhost:8080/"
        },
        "id": "aMACtPhoZMx2",
        "outputId": "ddf0c886-5f64-4368-f744-3136b4258861"
      },
      "execution_count": 23,
      "outputs": [
        {
          "output_type": "execute_result",
          "data": {
            "text/plain": [
              "array([[-0.00830404,  0.05527008,  0.0444556 , ...,  0.04914191,\n",
              "        -0.02353329,  0.06327438],\n",
              "       [-0.07136462, -0.01113363, -0.06584783, ...,  0.01488721,\n",
              "        -0.0275137 ,  0.05027447],\n",
              "       [ 0.05330659,  0.00266513, -0.05529647, ...,  0.03692223,\n",
              "         0.03650321, -0.03559888],\n",
              "       ...,\n",
              "       [ 0.02799668, -0.00095997,  0.06064178, ..., -0.05480117,\n",
              "         0.05410127, -0.02575262],\n",
              "       [-0.00908572, -0.05250414,  0.07289527, ..., -0.05867098,\n",
              "        -0.03896671, -0.06649104],\n",
              "       [-0.03988674, -0.04383529, -0.06102207, ..., -0.06368711,\n",
              "        -0.0466882 ,  0.03163756]], dtype=float32)"
            ]
          },
          "metadata": {},
          "execution_count": 23
        }
      ]
    },
    {
      "cell_type": "code",
      "source": [
        "weights.shape"
      ],
      "metadata": {
        "colab": {
          "base_uri": "https://localhost:8080/"
        },
        "id": "XvJ655CtZYgm",
        "outputId": "28f52bed-0d54-41ff-e063-bf798d299091"
      },
      "execution_count": 24,
      "outputs": [
        {
          "output_type": "execute_result",
          "data": {
            "text/plain": [
              "(784, 300)"
            ]
          },
          "metadata": {},
          "execution_count": 24
        }
      ]
    },
    {
      "cell_type": "code",
      "source": [
        "biases"
      ],
      "metadata": {
        "colab": {
          "base_uri": "https://localhost:8080/"
        },
        "id": "6rAax_yQZcbD",
        "outputId": "1aab7c7f-6b5a-4578-ed73-fb2e3ae41616"
      },
      "execution_count": 25,
      "outputs": [
        {
          "output_type": "execute_result",
          "data": {
            "text/plain": [
              "array([0., 0., 0., 0., 0., 0., 0., 0., 0., 0., 0., 0., 0., 0., 0., 0., 0.,\n",
              "       0., 0., 0., 0., 0., 0., 0., 0., 0., 0., 0., 0., 0., 0., 0., 0., 0.,\n",
              "       0., 0., 0., 0., 0., 0., 0., 0., 0., 0., 0., 0., 0., 0., 0., 0., 0.,\n",
              "       0., 0., 0., 0., 0., 0., 0., 0., 0., 0., 0., 0., 0., 0., 0., 0., 0.,\n",
              "       0., 0., 0., 0., 0., 0., 0., 0., 0., 0., 0., 0., 0., 0., 0., 0., 0.,\n",
              "       0., 0., 0., 0., 0., 0., 0., 0., 0., 0., 0., 0., 0., 0., 0., 0., 0.,\n",
              "       0., 0., 0., 0., 0., 0., 0., 0., 0., 0., 0., 0., 0., 0., 0., 0., 0.,\n",
              "       0., 0., 0., 0., 0., 0., 0., 0., 0., 0., 0., 0., 0., 0., 0., 0., 0.,\n",
              "       0., 0., 0., 0., 0., 0., 0., 0., 0., 0., 0., 0., 0., 0., 0., 0., 0.,\n",
              "       0., 0., 0., 0., 0., 0., 0., 0., 0., 0., 0., 0., 0., 0., 0., 0., 0.,\n",
              "       0., 0., 0., 0., 0., 0., 0., 0., 0., 0., 0., 0., 0., 0., 0., 0., 0.,\n",
              "       0., 0., 0., 0., 0., 0., 0., 0., 0., 0., 0., 0., 0., 0., 0., 0., 0.,\n",
              "       0., 0., 0., 0., 0., 0., 0., 0., 0., 0., 0., 0., 0., 0., 0., 0., 0.,\n",
              "       0., 0., 0., 0., 0., 0., 0., 0., 0., 0., 0., 0., 0., 0., 0., 0., 0.,\n",
              "       0., 0., 0., 0., 0., 0., 0., 0., 0., 0., 0., 0., 0., 0., 0., 0., 0.,\n",
              "       0., 0., 0., 0., 0., 0., 0., 0., 0., 0., 0., 0., 0., 0., 0., 0., 0.,\n",
              "       0., 0., 0., 0., 0., 0., 0., 0., 0., 0., 0., 0., 0., 0., 0., 0., 0.,\n",
              "       0., 0., 0., 0., 0., 0., 0., 0., 0., 0., 0.], dtype=float32)"
            ]
          },
          "metadata": {},
          "execution_count": 25
        }
      ]
    },
    {
      "cell_type": "code",
      "source": [
        "biases.shape"
      ],
      "metadata": {
        "colab": {
          "base_uri": "https://localhost:8080/"
        },
        "id": "NNPErYb3ZdL6",
        "outputId": "a495c753-19ab-422e-c3dd-febe08140b39"
      },
      "execution_count": 26,
      "outputs": [
        {
          "output_type": "execute_result",
          "data": {
            "text/plain": [
              "(300,)"
            ]
          },
          "metadata": {},
          "execution_count": 26
        }
      ]
    },
    {
      "cell_type": "code",
      "source": [
        "model.compile(loss='sparse_categorical_crossentropy',\n",
        "              optimizer='sgd',\n",
        "              metrics=['accuracy']\n",
        "              )"
      ],
      "metadata": {
        "id": "gGEx0jxRZeQK"
      },
      "execution_count": 27,
      "outputs": []
    },
    {
      "cell_type": "code",
      "source": [
        "history = model.fit(X_train, y_train, epochs=30, validation_data=(X_valid, y_valid))"
      ],
      "metadata": {
        "colab": {
          "base_uri": "https://localhost:8080/"
        },
        "id": "oz2x0jOTZqxj",
        "outputId": "cb109e9d-4525-4dab-ed1c-0b6e150d7e78"
      },
      "execution_count": 28,
      "outputs": [
        {
          "output_type": "stream",
          "name": "stdout",
          "text": [
            "Epoch 1/30\n",
            "1719/1719 [==============================] - 18s 10ms/step - loss: 0.6947 - accuracy: 0.7666 - val_loss: 0.4984 - val_accuracy: 0.8308\n",
            "Epoch 2/30\n",
            "1719/1719 [==============================] - 11s 7ms/step - loss: 0.4796 - accuracy: 0.8337 - val_loss: 0.4582 - val_accuracy: 0.8334\n",
            "Epoch 3/30\n",
            "1719/1719 [==============================] - 8s 5ms/step - loss: 0.4330 - accuracy: 0.8477 - val_loss: 0.4206 - val_accuracy: 0.8554\n",
            "Epoch 4/30\n",
            "1719/1719 [==============================] - 9s 5ms/step - loss: 0.4075 - accuracy: 0.8569 - val_loss: 0.3916 - val_accuracy: 0.8622\n",
            "Epoch 5/30\n",
            "1719/1719 [==============================] - 7s 4ms/step - loss: 0.3854 - accuracy: 0.8653 - val_loss: 0.3847 - val_accuracy: 0.8652\n",
            "Epoch 6/30\n",
            "1719/1719 [==============================] - 10s 6ms/step - loss: 0.3688 - accuracy: 0.8699 - val_loss: 0.3906 - val_accuracy: 0.8610\n",
            "Epoch 7/30\n",
            "1719/1719 [==============================] - 9s 5ms/step - loss: 0.3558 - accuracy: 0.8736 - val_loss: 0.3639 - val_accuracy: 0.8742\n",
            "Epoch 8/30\n",
            "1719/1719 [==============================] - 9s 5ms/step - loss: 0.3437 - accuracy: 0.8777 - val_loss: 0.3677 - val_accuracy: 0.8670\n",
            "Epoch 9/30\n",
            "1719/1719 [==============================] - 8s 5ms/step - loss: 0.3325 - accuracy: 0.8826 - val_loss: 0.3467 - val_accuracy: 0.8774\n",
            "Epoch 10/30\n",
            "1719/1719 [==============================] - 7s 4ms/step - loss: 0.3228 - accuracy: 0.8849 - val_loss: 0.3457 - val_accuracy: 0.8778\n",
            "Epoch 11/30\n",
            "1719/1719 [==============================] - 8s 5ms/step - loss: 0.3138 - accuracy: 0.8881 - val_loss: 0.3551 - val_accuracy: 0.8746\n",
            "Epoch 12/30\n",
            "1719/1719 [==============================] - 7s 4ms/step - loss: 0.3061 - accuracy: 0.8900 - val_loss: 0.3443 - val_accuracy: 0.8770\n",
            "Epoch 13/30\n",
            "1719/1719 [==============================] - 9s 5ms/step - loss: 0.2990 - accuracy: 0.8938 - val_loss: 0.3230 - val_accuracy: 0.8830\n",
            "Epoch 14/30\n",
            "1719/1719 [==============================] - 8s 5ms/step - loss: 0.2916 - accuracy: 0.8957 - val_loss: 0.3383 - val_accuracy: 0.8790\n",
            "Epoch 15/30\n",
            "1719/1719 [==============================] - 8s 5ms/step - loss: 0.2859 - accuracy: 0.8983 - val_loss: 0.3326 - val_accuracy: 0.8810\n",
            "Epoch 16/30\n",
            "1719/1719 [==============================] - 8s 5ms/step - loss: 0.2788 - accuracy: 0.8992 - val_loss: 0.3301 - val_accuracy: 0.8782\n",
            "Epoch 17/30\n",
            "1719/1719 [==============================] - 7s 4ms/step - loss: 0.2737 - accuracy: 0.9004 - val_loss: 0.3271 - val_accuracy: 0.8802\n",
            "Epoch 18/30\n",
            "1719/1719 [==============================] - 9s 5ms/step - loss: 0.2676 - accuracy: 0.9044 - val_loss: 0.3230 - val_accuracy: 0.8848\n",
            "Epoch 19/30\n",
            "1719/1719 [==============================] - 7s 4ms/step - loss: 0.2627 - accuracy: 0.9054 - val_loss: 0.3434 - val_accuracy: 0.8740\n",
            "Epoch 20/30\n",
            "1719/1719 [==============================] - 9s 5ms/step - loss: 0.2578 - accuracy: 0.9069 - val_loss: 0.3171 - val_accuracy: 0.8840\n",
            "Epoch 21/30\n",
            "1719/1719 [==============================] - 7s 4ms/step - loss: 0.2522 - accuracy: 0.9084 - val_loss: 0.3118 - val_accuracy: 0.8840\n",
            "Epoch 22/30\n",
            "1719/1719 [==============================] - 8s 5ms/step - loss: 0.2475 - accuracy: 0.9108 - val_loss: 0.3160 - val_accuracy: 0.8838\n",
            "Epoch 23/30\n",
            "1719/1719 [==============================] - 6s 4ms/step - loss: 0.2434 - accuracy: 0.9122 - val_loss: 0.3430 - val_accuracy: 0.8744\n",
            "Epoch 24/30\n",
            "1719/1719 [==============================] - 8s 5ms/step - loss: 0.2385 - accuracy: 0.9147 - val_loss: 0.3157 - val_accuracy: 0.8850\n",
            "Epoch 25/30\n",
            "1719/1719 [==============================] - 7s 4ms/step - loss: 0.2344 - accuracy: 0.9157 - val_loss: 0.3139 - val_accuracy: 0.8852\n",
            "Epoch 26/30\n",
            "1719/1719 [==============================] - 8s 5ms/step - loss: 0.2302 - accuracy: 0.9172 - val_loss: 0.3116 - val_accuracy: 0.8900\n",
            "Epoch 27/30\n",
            "1719/1719 [==============================] - 8s 4ms/step - loss: 0.2252 - accuracy: 0.9183 - val_loss: 0.3157 - val_accuracy: 0.8862\n",
            "Epoch 28/30\n",
            "1719/1719 [==============================] - 8s 5ms/step - loss: 0.2221 - accuracy: 0.9206 - val_loss: 0.3026 - val_accuracy: 0.8912\n",
            "Epoch 29/30\n",
            "1719/1719 [==============================] - 9s 5ms/step - loss: 0.2182 - accuracy: 0.9216 - val_loss: 0.3225 - val_accuracy: 0.8854\n",
            "Epoch 30/30\n",
            "1719/1719 [==============================] - 9s 5ms/step - loss: 0.2147 - accuracy: 0.9233 - val_loss: 0.3038 - val_accuracy: 0.8922\n"
          ]
        }
      ]
    },
    {
      "cell_type": "code",
      "source": [
        "import matplotlib.pyplot as plt\n",
        "import pandas as pd\n",
        "\n",
        "pd.DataFrame(history.history).plot(\n",
        "    figsize=(8,5), xlim=[0,20], ylim=[0,1], grid=True, xlabel=\"에포크\",\n",
        "    style=['r--', 'r--.', 'b-','b-*']\n",
        ")\n",
        "plt.show()"
      ],
      "metadata": {
        "colab": {
          "base_uri": "https://localhost:8080/",
          "height": 599
        },
        "id": "yLmGupZoZ1RL",
        "outputId": "7e61bcf0-cc86-4e7c-d4a0-709ee3f104a3"
      },
      "execution_count": 29,
      "outputs": [
        {
          "output_type": "stream",
          "name": "stderr",
          "text": [
            "/usr/local/lib/python3.10/dist-packages/IPython/core/pylabtools.py:151: UserWarning: Glyph 50640 (\\N{HANGUL SYLLABLE E}) missing from current font.\n",
            "  fig.canvas.print_figure(bytes_io, **kw)\n",
            "/usr/local/lib/python3.10/dist-packages/IPython/core/pylabtools.py:151: UserWarning: Glyph 54252 (\\N{HANGUL SYLLABLE PO}) missing from current font.\n",
            "  fig.canvas.print_figure(bytes_io, **kw)\n",
            "/usr/local/lib/python3.10/dist-packages/IPython/core/pylabtools.py:151: UserWarning: Glyph 53356 (\\N{HANGUL SYLLABLE KEU}) missing from current font.\n",
            "  fig.canvas.print_figure(bytes_io, **kw)\n"
          ]
        },
        {
          "output_type": "display_data",
          "data": {
            "text/plain": [
              "<Figure size 800x500 with 1 Axes>"
            ],
            "image/png": "[encoded data removed]"
          },
          "metadata": {}
        }
      ]
    },
    {
      "cell_type": "code",
      "source": [
        "model.evaluate(X_test, y_test)"
      ],
      "metadata": {
        "colab": {
          "base_uri": "https://localhost:8080/"
        },
        "id": "Ow7y_w8XaVVn",
        "outputId": "04c5401b-9cee-43e8-9def-106d33824641"
      },
      "execution_count": 30,
      "outputs": [
        {
          "output_type": "stream",
          "name": "stdout",
          "text": [
            "313/313 [==============================] - 1s 3ms/step - loss: 0.3252 - accuracy: 0.8875\n"
          ]
        },
        {
          "output_type": "execute_result",
          "data": {
            "text/plain": [
              "[0.325206995010376, 0.887499988079071]"
            ]
          },
          "metadata": {},
          "execution_count": 30
        }
      ]
    },
    {
      "cell_type": "code",
      "source": [
        "X_new = X_test[:3] # 새로 만들 수 없어서 임시적으로 그냥 가져옴\n",
        "y_proba = model.predict(X_new)\n",
        "y_proba.round(2)"
      ],
      "metadata": {
        "colab": {
          "base_uri": "https://localhost:8080/"
        },
        "id": "hOqDgIwtaaxo",
        "outputId": "431dee9e-0148-4328-ff23-6667c300417c"
      },
      "execution_count": 31,
      "outputs": [
        {
          "output_type": "stream",
          "name": "stdout",
          "text": [
            "1/1 [==============================] - 0s 112ms/step\n"
          ]
        },
        {
          "output_type": "execute_result",
          "data": {
            "text/plain": [
              "array([[0.  , 0.  , 0.  , 0.  , 0.  , 0.02, 0.  , 0.02, 0.  , 0.96],\n",
              "       [0.  , 0.  , 1.  , 0.  , 0.  , 0.  , 0.  , 0.  , 0.  , 0.  ],\n",
              "       [0.  , 1.  , 0.  , 0.  , 0.  , 0.  , 0.  , 0.  , 0.  , 0.  ]],\n",
              "      dtype=float32)"
            ]
          },
          "metadata": {},
          "execution_count": 31
        }
      ]
    },
    {
      "cell_type": "code",
      "source": [
        "import numpy as np\n",
        "y_pred = y_proba.argmax(axis=-1)\n",
        "y_pred"
      ],
      "metadata": {
        "colab": {
          "base_uri": "https://localhost:8080/"
        },
        "id": "50y-CL2CaavH",
        "outputId": "533705da-711c-40b4-df49-c4535e9c221a"
      },
      "execution_count": 32,
      "outputs": [
        {
          "output_type": "execute_result",
          "data": {
            "text/plain": [
              "array([9, 2, 1])"
            ]
          },
          "metadata": {},
          "execution_count": 32
        }
      ]
    },
    {
      "cell_type": "code",
      "source": [
        "np.array(class_names)[y_pred]"
      ],
      "metadata": {
        "colab": {
          "base_uri": "https://localhost:8080/"
        },
        "id": "RxrXD0njaaqD",
        "outputId": "5a793181-aa6b-462c-f0f8-985be24bfb6d"
      },
      "execution_count": 33,
      "outputs": [
        {
          "output_type": "execute_result",
          "data": {
            "text/plain": [
              "array(['Ankle Boot', 'Pullover', 'Trouser'], dtype='<U11')"
            ]
          },
          "metadata": {},
          "execution_count": 33
        }
      ]
    },
    {
      "cell_type": "code",
      "source": [
        "y_new = y_test[:3]\n",
        "y_new"
      ],
      "metadata": {
        "colab": {
          "base_uri": "https://localhost:8080/"
        },
        "id": "hOcXUhYSaann",
        "outputId": "3b21659b-eb3b-48c3-f36f-68eb5ecac54f"
      },
      "execution_count": 34,
      "outputs": [
        {
          "output_type": "execute_result",
          "data": {
            "text/plain": [
              "array([9, 2, 1], dtype=uint8)"
            ]
          },
          "metadata": {},
          "execution_count": 34
        }
      ]
    },
    {
      "cell_type": "code",
      "source": [
        "# 그림 10-12\n",
        "plt.figure(figsize=(7.2, 2.4))\n",
        "for index, image in enumerate(X_new):\n",
        "  plt.subplot(1, 3, index + 1)\n",
        "  plt.imshow(image, cmap=\"binary\", interpolation=\"nearest\")\n",
        "  plt.axis('off')\n",
        "  plt.title(class_names[y_test[index]])\n",
        "plt.subplots_adjust(wspace=0.2, hspace=0.5)\n",
        "plt.show()"
      ],
      "metadata": {
        "colab": {
          "base_uri": "https://localhost:8080/",
          "height": 223
        },
        "id": "CtLhS02laptC",
        "outputId": "ecf586ba-bbb5-4f1d-e695-b7136da324f6"
      },
      "execution_count": 35,
      "outputs": [
        {
          "output_type": "display_data",
          "data": {
            "text/plain": [
              "<Figure size 720x240 with 3 Axes>"
            ],
            "image/png": "[encoded data removed]"
          },
          "metadata": {}
        }
      ]
    },
    {
      "cell_type": "code",
      "source": [
        "tf.random.set_seed(42)\n",
        "norm_layer = tf.keras.layers.Normalization(input_shape=X_train.shape[1:])\n",
        "\n",
        "model = tf.keras.Sequential([\n",
        "    tf.keras.layers.Flatten(input_shape=[28,28]),\n",
        "    tf.keras.layers.Dense(300, activation='relu'),\n",
        "    tf.keras.layers.Dense(100, activation='relu'),\n",
        "    tf.keras.layers.Dense(10, activation='softmax')\n",
        "])\n",
        "\n",
        "optimizer = tf.keras.optimizers.Adam(learning_rate=1e-3)\n",
        "model.compile(loss='mse', optimizer=optimizer, metrics=['RootMeanSquaredError'])\n",
        "norm_layer.adapt(X_train)\n",
        "\n",
        "history = model.fit(X_train, y_train, epochs=20,\n",
        "                    validation_data=(X_valid, y_valid))\n",
        "\n",
        "mse_test, rmse_test = model.evaluate(X_test, y_test)\n",
        "X_new = X_test[:3]\n",
        "y_pred = model.predict(X_new)"
      ],
      "metadata": {
        "colab": {
          "base_uri": "https://localhost:8080/"
        },
        "id": "2hcp9-LqGqi4",
        "outputId": "c12672f1-212f-473d-cf4e-fcc9ec59d2c0"
      },
      "execution_count": 48,
      "outputs": [
        {
          "output_type": "stream",
          "name": "stdout",
          "text": [
            "Epoch 1/20\n",
            "1719/1719 [==============================] - 15s 8ms/step - loss: 27.6163 - root_mean_squared_error: 5.2551 - val_loss: 27.5422 - val_root_mean_squared_error: 5.2481\n",
            "Epoch 2/20\n",
            "1719/1719 [==============================] - 8s 5ms/step - loss: 27.6163 - root_mean_squared_error: 5.2551 - val_loss: 27.5422 - val_root_mean_squared_error: 5.2481\n",
            "Epoch 3/20\n",
            "1719/1719 [==============================] - 11s 6ms/step - loss: 27.6163 - root_mean_squared_error: 5.2551 - val_loss: 27.5422 - val_root_mean_squared_error: 5.2481\n",
            "Epoch 4/20\n",
            "1719/1719 [==============================] - 10s 6ms/step - loss: 27.6162 - root_mean_squared_error: 5.2551 - val_loss: 27.5422 - val_root_mean_squared_error: 5.2481\n",
            "Epoch 5/20\n",
            "1719/1719 [==============================] - 9s 5ms/step - loss: 27.6163 - root_mean_squared_error: 5.2551 - val_loss: 27.5422 - val_root_mean_squared_error: 5.2481\n",
            "Epoch 6/20\n",
            "1719/1719 [==============================] - 9s 5ms/step - loss: 27.6162 - root_mean_squared_error: 5.2551 - val_loss: 27.5422 - val_root_mean_squared_error: 5.2481\n",
            "Epoch 7/20\n",
            "1719/1719 [==============================] - 10s 6ms/step - loss: 27.6162 - root_mean_squared_error: 5.2551 - val_loss: 27.5422 - val_root_mean_squared_error: 5.2481\n",
            "Epoch 8/20\n",
            "1719/1719 [==============================] - 9s 5ms/step - loss: 27.6163 - root_mean_squared_error: 5.2551 - val_loss: 27.5422 - val_root_mean_squared_error: 5.2481\n",
            "Epoch 9/20\n",
            "1719/1719 [==============================] - 9s 5ms/step - loss: 27.6163 - root_mean_squared_error: 5.2551 - val_loss: 27.5422 - val_root_mean_squared_error: 5.2481\n",
            "Epoch 10/20\n",
            "1719/1719 [==============================] - 11s 7ms/step - loss: 27.6163 - root_mean_squared_error: 5.2551 - val_loss: 27.5422 - val_root_mean_squared_error: 5.2481\n",
            "Epoch 11/20\n",
            "1719/1719 [==============================] - 10s 6ms/step - loss: 27.6163 - root_mean_squared_error: 5.2551 - val_loss: 27.5422 - val_root_mean_squared_error: 5.2481\n",
            "Epoch 12/20\n",
            "1719/1719 [==============================] - 9s 5ms/step - loss: 27.6162 - root_mean_squared_error: 5.2551 - val_loss: 27.5422 - val_root_mean_squared_error: 5.2481\n",
            "Epoch 13/20\n",
            "1719/1719 [==============================] - 10s 6ms/step - loss: 27.6163 - root_mean_squared_error: 5.2551 - val_loss: 27.5422 - val_root_mean_squared_error: 5.2481\n",
            "Epoch 14/20\n",
            "1719/1719 [==============================] - 11s 6ms/step - loss: 27.6162 - root_mean_squared_error: 5.2551 - val_loss: 27.5422 - val_root_mean_squared_error: 5.2481\n",
            "Epoch 15/20\n",
            "1719/1719 [==============================] - 9s 5ms/step - loss: 27.6162 - root_mean_squared_error: 5.2551 - val_loss: 27.5422 - val_root_mean_squared_error: 5.2481\n",
            "Epoch 16/20\n",
            "1719/1719 [==============================] - 10s 6ms/step - loss: 27.6163 - root_mean_squared_error: 5.2551 - val_loss: 27.5422 - val_root_mean_squared_error: 5.2481\n",
            "Epoch 17/20\n",
            "1719/1719 [==============================] - 11s 6ms/step - loss: 27.6163 - root_mean_squared_error: 5.2551 - val_loss: 27.5422 - val_root_mean_squared_error: 5.2481\n",
            "Epoch 18/20\n",
            "1719/1719 [==============================] - 11s 7ms/step - loss: 27.6162 - root_mean_squared_error: 5.2551 - val_loss: 27.5422 - val_root_mean_squared_error: 5.2481\n",
            "Epoch 19/20\n",
            "1719/1719 [==============================] - 11s 6ms/step - loss: 27.6163 - root_mean_squared_error: 5.2551 - val_loss: 27.5422 - val_root_mean_squared_error: 5.2481\n",
            "Epoch 20/20\n",
            "1719/1719 [==============================] - 12s 7ms/step - loss: 27.6162 - root_mean_squared_error: 5.2551 - val_loss: 27.5422 - val_root_mean_squared_error: 5.2481\n",
            "313/313 [==============================] - 1s 2ms/step - loss: 27.6100 - root_mean_squared_error: 5.2545\n",
            "1/1 [==============================] - 0s 67ms/step\n"
          ]
        }
      ]
    },
    {
      "cell_type": "markdown",
      "source": [
        "# 3. 신경망 하이퍼파라미터 튜닝하기"
      ],
      "metadata": {
        "id": "6_7fgEtna0XJ"
      }
    },
    {
      "cell_type": "code",
      "source": [
        "%pip install -q -U keras_tuner\n",
        "\n",
        "tf.keras.backend.clear_session()\n",
        "tf.random.set_seed(42)"
      ],
      "metadata": {
        "colab": {
          "base_uri": "https://localhost:8080/"
        },
        "id": "vgNrYCMca3VA",
        "outputId": "afc42473-fe02-43a7-b1fa-2e5961989701"
      },
      "execution_count": 36,
      "outputs": [
        {
          "output_type": "stream",
          "name": "stdout",
          "text": [
            "\u001b[?25l     \u001b[90m━━━━━━━━━━━━━━━━━━━━━━━━━━━━━━━━━━━━━━━━\u001b[0m \u001b[32m0.0/129.1 kB\u001b[0m \u001b[31m?\u001b[0m eta \u001b[36m-:--:--\u001b[0m\r\u001b[2K     \u001b[91m━━━━━━━━━━━━━━━━━━━━━━━━━━━━━━━━━━\u001b[0m\u001b[91m╸\u001b[0m\u001b[90m━━━━━\u001b[0m \u001b[32m112.6/129.1 kB\u001b[0m \u001b[31m3.4 MB/s\u001b[0m eta \u001b[36m0:00:01\u001b[0m\r\u001b[2K     \u001b[90m━━━━━━━━━━━━━━━━━━━━━━━━━━━━━━━━━━━━━━━━\u001b[0m \u001b[32m129.1/129.1 kB\u001b[0m \u001b[31m2.8 MB/s\u001b[0m eta \u001b[36m0:00:00\u001b[0m\n",
            "\u001b[?25h"
          ]
        }
      ]
    },
    {
      "cell_type": "code",
      "source": [
        "import keras_tuner as kt\n",
        "\n",
        "def build_model(hp):\n",
        "  n_hidden = hp.Int(\"n_hidden\", min_value=0, max_value=8, default=2)\n",
        "  n_neurons = hp.Int(\"n_neurons\", min_value=16, max_value=256)\n",
        "  learning_rate = hp.Float(\"learning_rate\", min_value=1e-4, max_value=1e-2, sampling='log')\n",
        "\n",
        "  optimizer = hp.Choice('optimizer', values=['sgd', 'adam'])\n",
        "  if optimizer == 'sgd':\n",
        "    optimizer = tf.keras.optimizers.SGD(learning_rate=learning_rate)\n",
        "  else:\n",
        "    optimizer = tf.keras.optimizers.Adam(learning_rate=learning_rate)\n",
        "\n",
        "  model = tf.keras.Sequential()\n",
        "  model.add(tf.keras.layers.Flatten())\n",
        "  for _ in range(n_hidden):\n",
        "    model.add(tf.keras.layers.Dense(n_neurons, activation='relu'))\n",
        "\n",
        "  model.add(tf.keras.layers.Dense(10, activation='softmax'))\n",
        "  model.compile(loss='sparse_categorical_crossentropy', optimizer=optimizer,\n",
        "                metrics=['accuracy'])\n",
        "  return model"
      ],
      "metadata": {
        "id": "5D6eNzYnaz81"
      },
      "execution_count": 37,
      "outputs": []
    },
    {
      "cell_type": "code",
      "source": [
        "random_search_tuner = kt.RandomSearch(\n",
        "    build_model, objective='val_accuracy', max_trials=55, overwrite=True,\n",
        "    directory='my_fashion_mnist', project_name='my_rnd_search', seed=42)\n",
        "\n",
        "random_search_tuner.search(X_train, y_train, epochs=10,\n",
        "                           validation_data=(X_valid,y_valid))"
      ],
      "metadata": {
        "colab": {
          "base_uri": "https://localhost:8080/"
        },
        "id": "hpb8pdnjgpwV",
        "outputId": "41c15715-7143-4840-ed02-116a5e3da61c"
      },
      "execution_count": 38,
      "outputs": [
        {
          "output_type": "stream",
          "name": "stdout",
          "text": [
            "Trial 55 Complete [00h 00m 45s]\n",
            "val_accuracy: 0.6593999862670898\n",
            "\n",
            "Best val_accuracy So Far: 0.8873999714851379\n",
            "Total elapsed time: 01h 17m 45s\n"
          ]
        }
      ]
    },
    {
      "cell_type": "code",
      "source": [
        "top3_models = random_search_tuner.get_best_models(num_models=3)\n",
        "best_model = top3_models[0]"
      ],
      "metadata": {
        "colab": {
          "base_uri": "https://localhost:8080/"
        },
        "id": "84S3-BYjhnI8",
        "outputId": "5b88994e-ebf6-4f2b-ab13-7927dc443e32"
      },
      "execution_count": 44,
      "outputs": [
        {
          "output_type": "stream",
          "name": "stderr",
          "text": [
            "WARNING:tensorflow:Detecting that an object or model or tf.train.Checkpoint is being deleted with unrestored values. See the following logs for the specific values in question. To silence these warnings, use `status.expect_partial()`. See https://www.tensorflow.org/api_docs/python/tf/train/Checkpoint#restorefor details about the status object returned by the restore function.\n",
            "WARNING:tensorflow:Value in checkpoint could not be found in the restored object: (root).layer_with_weights-0.kernel\n",
            "WARNING:tensorflow:Value in checkpoint could not be found in the restored object: (root).layer_with_weights-0.bias\n",
            "WARNING:tensorflow:Value in checkpoint could not be found in the restored object: (root).layer_with_weights-1.kernel\n",
            "WARNING:tensorflow:Value in checkpoint could not be found in the restored object: (root).layer_with_weights-1.bias\n",
            "WARNING:tensorflow:Value in checkpoint could not be found in the restored object: (root).layer_with_weights-2.kernel\n",
            "WARNING:tensorflow:Value in checkpoint could not be found in the restored object: (root).layer_with_weights-2.bias\n",
            "WARNING:tensorflow:Value in checkpoint could not be found in the restored object: (root).layer_with_weights-3.kernel\n",
            "WARNING:tensorflow:Value in checkpoint could not be found in the restored object: (root).layer_with_weights-3.bias\n",
            "WARNING:tensorflow:Value in checkpoint could not be found in the restored object: (root).layer_with_weights-4.kernel\n",
            "WARNING:tensorflow:Value in checkpoint could not be found in the restored object: (root).layer_with_weights-4.bias\n",
            "WARNING:tensorflow:Value in checkpoint could not be found in the restored object: (root).layer_with_weights-5.kernel\n",
            "WARNING:tensorflow:Value in checkpoint could not be found in the restored object: (root).layer_with_weights-5.bias\n",
            "WARNING:tensorflow:Value in checkpoint could not be found in the restored object: (root).layer_with_weights-6.kernel\n",
            "WARNING:tensorflow:Value in checkpoint could not be found in the restored object: (root).layer_with_weights-6.bias\n",
            "WARNING:tensorflow:Value in checkpoint could not be found in the restored object: (root).optimizer._variables.1\n",
            "WARNING:tensorflow:Value in checkpoint could not be found in the restored object: (root).optimizer._variables.2\n"
          ]
        }
      ]
    },
    {
      "cell_type": "code",
      "source": [
        "top_params = random_search_tuner.get_best_hyperparameters(num_trials=3)\n",
        "top3_params[0].values # 최상의 하이퍼파리미터 값"
      ],
      "metadata": {
        "id": "-hpie8FQa5CQ"
      },
      "execution_count": null,
      "outputs": []
    },
    {
      "cell_type": "code",
      "source": [
        "best_trial = random_search_tuner.oracle.get_best_trials(num_trials=1)[0]\n",
        "best_trial.summary()"
      ],
      "metadata": {
        "colab": {
          "base_uri": "https://localhost:8080/"
        },
        "id": "SxQ8uOe8iLyu",
        "outputId": "8f1c5bb1-b70c-4374-f796-468d908a0b1e"
      },
      "execution_count": 40,
      "outputs": [
        {
          "output_type": "stream",
          "name": "stdout",
          "text": [
            "Trial 47 summary\n",
            "Hyperparameters:\n",
            "n_hidden: 6\n",
            "n_neurons: 221\n",
            "learning_rate: 0.0003647863570162414\n",
            "optimizer: adam\n",
            "Score: 0.8873999714851379\n"
          ]
        }
      ]
    },
    {
      "cell_type": "code",
      "source": [
        "best_trial.metrics.get_last_value('val_accuracy')"
      ],
      "metadata": {
        "colab": {
          "base_uri": "https://localhost:8080/"
        },
        "id": "Sgl-4ZuIiXTW",
        "outputId": "7da8c798-845c-4788-e4e7-f54aa9d36878"
      },
      "execution_count": 41,
      "outputs": [
        {
          "output_type": "execute_result",
          "data": {
            "text/plain": [
              "0.8873999714851379"
            ]
          },
          "metadata": {},
          "execution_count": 41
        }
      ]
    },
    {
      "cell_type": "code",
      "source": [
        "best_model.fit(X_train_full, y_train_full, epochs=10)\n",
        "test_loss, test_accuracy = best_model.evaluate(X_test, y_test)"
      ],
      "metadata": {
        "colab": {
          "base_uri": "https://localhost:8080/"
        },
        "id": "mS4qgUQuiXRO",
        "outputId": "db7fc217-e07e-4267-f724-0d85f4cd07e6"
      },
      "execution_count": 42,
      "outputs": [
        {
          "output_type": "stream",
          "name": "stdout",
          "text": [
            "Epoch 1/10\n",
            "1875/1875 [==============================] - 35s 17ms/step - loss: 0.6369 - accuracy: 0.8676\n",
            "Epoch 2/10\n",
            "1875/1875 [==============================] - 19s 10ms/step - loss: 0.2970 - accuracy: 0.8934\n",
            "Epoch 3/10\n",
            "1875/1875 [==============================] - 15s 8ms/step - loss: 0.2796 - accuracy: 0.8974\n",
            "Epoch 4/10\n",
            "1875/1875 [==============================] - 15s 8ms/step - loss: 0.2807 - accuracy: 0.9003\n",
            "Epoch 5/10\n",
            "1875/1875 [==============================] - 15s 8ms/step - loss: 0.2625 - accuracy: 0.9045\n",
            "Epoch 6/10\n",
            "1875/1875 [==============================] - 15s 8ms/step - loss: 0.2574 - accuracy: 0.9063\n",
            "Epoch 7/10\n",
            "1875/1875 [==============================] - 15s 8ms/step - loss: 0.2492 - accuracy: 0.9092\n",
            "Epoch 8/10\n",
            "1875/1875 [==============================] - 17s 9ms/step - loss: 0.2429 - accuracy: 0.9111\n",
            "Epoch 9/10\n",
            "1875/1875 [==============================] - 17s 9ms/step - loss: 0.2355 - accuracy: 0.9140\n",
            "Epoch 10/10\n",
            "1875/1875 [==============================] - 16s 9ms/step - loss: 0.2270 - accuracy: 0.9161\n",
            "313/313 [==============================] - 1s 2ms/step - loss: 1.8976 - accuracy: 0.3595\n"
          ]
        }
      ]
    },
    {
      "cell_type": "code",
      "source": [],
      "metadata": {
        "id": "-_M3t5uriXPD"
      },
      "execution_count": null,
      "outputs": []
    },
    {
      "cell_type": "code",
      "source": [],
      "metadata": {
        "id": "FdKBVIfla5AB"
      },
      "execution_count": null,
      "outputs": []
    },
    {
      "cell_type": "code",
      "source": [],
      "metadata": {
        "id": "5r2uK8eYa49k"
      },
      "execution_count": null,
      "outputs": []
    }
  ]
}